{
 "cells": [
  {
   "cell_type": "code",
   "execution_count": 2,
   "id": "3c70ecbb",
   "metadata": {},
   "outputs": [
    {
     "name": "stdout",
     "output_type": "stream",
     "text": [
      "Transcribing audio using default language (en-US)...\n",
      "Transcription result:\n",
      "the birds can use split on the smooth things clear background makes fine punch the box was done by the park trucks a large size is starting\n"
     ]
    }
   ],
   "source": [
    "import speech_recognition as sr\n",
    "\n",
    "def transcribe_audio(file_path):\n",
    "    recognizer = sr.Recognizer()\n",
    "\n",
    "    with sr.AudioFile(file_path) as source:\n",
    "        audio_data = recognizer.record(source)\n",
    "\n",
    "    try:\n",
    "        print(\"Transcribing audio using default language (en-US)...\")\n",
    "        text = recognizer.recognize_google(audio_data)\n",
    "    except sr.UnknownValueError:\n",
    "        print(\"Could not understand audio. Trying with British English (en-GB)...\")\n",
    "        try:\n",
    "            text = recognizer.recognize_google(audio_data, language=\"en-GB\")\n",
    "        except sr.UnknownValueError:\n",
    "            print(\"Could not understand audio with en-GB either.\")\n",
    "            return None\n",
    "        except sr.RequestError as e:\n",
    "            print(f\"API request error with en-GB: {e}\")\n",
    "            return None\n",
    "    except sr.RequestError as e:\n",
    "        print(f\"API request error: {e}\")\n",
    "        return None\n",
    "\n",
    "    return text\n",
    "\n",
    "# Usage\n",
    "file_path = \"input.wav\"  # <-- Updated filename\n",
    "result = transcribe_audio(file_path)\n",
    "\n",
    "if result:\n",
    "    print(\"Transcription result:\")\n",
    "    print(result)\n",
    "else:\n",
    "    print(\"Transcription failed.\")"
   ]
  }
 ],
 "metadata": {
  "kernelspec": {
   "display_name": "Python 3",
   "language": "python",
   "name": "python3"
  },
  "language_info": {
   "codemirror_mode": {
    "name": "ipython",
    "version": 3
   },
   "file_extension": ".py",
   "mimetype": "text/x-python",
   "name": "python",
   "nbconvert_exporter": "python",
   "pygments_lexer": "ipython3",
   "version": "3.9.6"
  }
 },
 "nbformat": 4,
 "nbformat_minor": 5
}
